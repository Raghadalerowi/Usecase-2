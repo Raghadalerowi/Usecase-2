{
 "cells": [
  {
   "cell_type": "code",
   "execution_count": 1,
   "id": "e69c4ba1-85f3-4a02-ae37-c64347a01803",
   "metadata": {},
   "outputs": [],
   "source": [
    "#Import all relevant libraries\n",
    "import numpy as np\n",
    "import pandas as pd\n",
    "import matplotlib.pyplot as plt\n",
    "import seaborn as sns\n",
    "from scipy.stats import zscore\n",
    " \n",
    "## This statement allows the visuals to render within your Jupyter Notebook.\n",
    "%matplotlib inline"
   ]
  },
  {
   "cell_type": "markdown",
   "id": "e395e8bf-b530-4720-8d0f-26811e927d6e",
   "metadata": {},
   "source": [
    "## Loading the data\n",
    "We can now load the dataset into pandas using the read_csv() function. This converts the CSV file into a Pandas dataframe."
   ]
  },
  {
   "cell_type": "code",
   "execution_count": 36,
   "id": "cf4030b0-aa7f-4bd7-8e9c-c1b7f4d202d0",
   "metadata": {},
   "outputs": [],
   "source": [
    "#Read in the csv file and convert to a Pandas dataframe\n",
    "WH15 = pd.read_csv(\"2015.csv\")\n",
    "WH16 = pd.read_csv(\"2016.csv\")\n",
    "WH17 = pd.read_csv(\"2017.csv\")\n",
    "WH18 = pd.read_csv(\"2018.csv\")\n",
    "WH19 = pd.read_csv(\"2019.csv\")"
   ]
  },
  {
   "cell_type": "markdown",
   "id": "ca5ed983-0f72-43eb-8168-6fafd48c562e",
   "metadata": {},
   "source": [
    "### Viewing the dataframe\n",
    "We can get a quick sense of the size of our dataset by using the shape method. This returns a tuple with the number of rows and columns in the dataset."
   ]
  },
  {
   "cell_type": "code",
   "execution_count": 7,
   "id": "bfde0b69-613c-4dd1-8ebf-e4d2e570e653",
   "metadata": {},
   "outputs": [
    {
     "name": "stdout",
     "output_type": "stream",
     "text": [
      "Data from 2015:\n",
      "       Country          Region  Happiness Rank  Happiness Score  \\\n",
      "0  Switzerland  Western Europe               1            7.587   \n",
      "1      Iceland  Western Europe               2            7.561   \n",
      "2      Denmark  Western Europe               3            7.527   \n",
      "3       Norway  Western Europe               4            7.522   \n",
      "4       Canada   North America               5            7.427   \n",
      "\n",
      "   Standard Error  Economy (GDP per Capita)   Family  \\\n",
      "0         0.03411                   1.39651  1.34951   \n",
      "1         0.04884                   1.30232  1.40223   \n",
      "2         0.03328                   1.32548  1.36058   \n",
      "3         0.03880                   1.45900  1.33095   \n",
      "4         0.03553                   1.32629  1.32261   \n",
      "\n",
      "   Health (Life Expectancy)  Freedom  Trust (Government Corruption)  \\\n",
      "0                   0.94143  0.66557                        0.41978   \n",
      "1                   0.94784  0.62877                        0.14145   \n",
      "2                   0.87464  0.64938                        0.48357   \n",
      "3                   0.88521  0.66973                        0.36503   \n",
      "4                   0.90563  0.63297                        0.32957   \n",
      "\n",
      "   Generosity  Dystopia Residual  \n",
      "0     0.29678            2.51738  \n",
      "1     0.43630            2.70201  \n",
      "2     0.34139            2.49204  \n",
      "3     0.34699            2.46531  \n",
      "4     0.45811            2.45176  \n",
      "\n",
      "\n",
      "Data from 2016:\n",
      "       Country          Region  Happiness Rank  Happiness Score  \\\n",
      "0      Denmark  Western Europe               1            7.526   \n",
      "1  Switzerland  Western Europe               2            7.509   \n",
      "2      Iceland  Western Europe               3            7.501   \n",
      "3       Norway  Western Europe               4            7.498   \n",
      "4      Finland  Western Europe               5            7.413   \n",
      "\n",
      "   Lower Confidence Interval  Upper Confidence Interval  \\\n",
      "0                      7.460                      7.592   \n",
      "1                      7.428                      7.590   \n",
      "2                      7.333                      7.669   \n",
      "3                      7.421                      7.575   \n",
      "4                      7.351                      7.475   \n",
      "\n",
      "   Economy (GDP per Capita)   Family  Health (Life Expectancy)  Freedom  \\\n",
      "0                   1.44178  1.16374                   0.79504  0.57941   \n",
      "1                   1.52733  1.14524                   0.86303  0.58557   \n",
      "2                   1.42666  1.18326                   0.86733  0.56624   \n",
      "3                   1.57744  1.12690                   0.79579  0.59609   \n",
      "4                   1.40598  1.13464                   0.81091  0.57104   \n",
      "\n",
      "   Trust (Government Corruption)  Generosity  Dystopia Residual  \n",
      "0                        0.44453     0.36171            2.73939  \n",
      "1                        0.41203     0.28083            2.69463  \n",
      "2                        0.14975     0.47678            2.83137  \n",
      "3                        0.35776     0.37895            2.66465  \n",
      "4                        0.41004     0.25492            2.82596  \n",
      "\n",
      "\n",
      "Data from 2017:\n",
      "       Country  Happiness.Rank  Happiness.Score  Whisker.high  Whisker.low  \\\n",
      "0       Norway               1            7.537      7.594445     7.479556   \n",
      "1      Denmark               2            7.522      7.581728     7.462272   \n",
      "2      Iceland               3            7.504      7.622030     7.385970   \n",
      "3  Switzerland               4            7.494      7.561772     7.426227   \n",
      "4      Finland               5            7.469      7.527542     7.410458   \n",
      "\n",
      "   Economy..GDP.per.Capita.    Family  Health..Life.Expectancy.   Freedom  \\\n",
      "0                  1.616463  1.533524                  0.796667  0.635423   \n",
      "1                  1.482383  1.551122                  0.792566  0.626007   \n",
      "2                  1.480633  1.610574                  0.833552  0.627163   \n",
      "3                  1.564980  1.516912                  0.858131  0.620071   \n",
      "4                  1.443572  1.540247                  0.809158  0.617951   \n",
      "\n",
      "   Generosity  Trust..Government.Corruption.  Dystopia.Residual  \n",
      "0    0.362012                       0.315964           2.277027  \n",
      "1    0.355280                       0.400770           2.313707  \n",
      "2    0.475540                       0.153527           2.322715  \n",
      "3    0.290549                       0.367007           2.276716  \n",
      "4    0.245483                       0.382612           2.430182  \n",
      "\n",
      "\n",
      "Data from 2018:\n",
      "   Overall rank Country or region  Score  GDP per capita  Social support  \\\n",
      "0             1           Finland  7.632           1.305           1.592   \n",
      "1             2            Norway  7.594           1.456           1.582   \n",
      "2             3           Denmark  7.555           1.351           1.590   \n",
      "3             4           Iceland  7.495           1.343           1.644   \n",
      "4             5       Switzerland  7.487           1.420           1.549   \n",
      "\n",
      "   Healthy life expectancy  Freedom to make life choices  Generosity  \\\n",
      "0                    0.874                         0.681       0.202   \n",
      "1                    0.861                         0.686       0.286   \n",
      "2                    0.868                         0.683       0.284   \n",
      "3                    0.914                         0.677       0.353   \n",
      "4                    0.927                         0.660       0.256   \n",
      "\n",
      "   Perceptions of corruption  \n",
      "0                      0.393  \n",
      "1                      0.340  \n",
      "2                      0.408  \n",
      "3                      0.138  \n",
      "4                      0.357  \n",
      "\n",
      "\n",
      "Data from 2019:\n",
      "   Overall rank Country or region  Score  GDP per capita  Social support  \\\n",
      "0             1           Finland  7.769           1.340           1.587   \n",
      "1             2           Denmark  7.600           1.383           1.573   \n",
      "2             3            Norway  7.554           1.488           1.582   \n",
      "3             4           Iceland  7.494           1.380           1.624   \n",
      "4             5       Netherlands  7.488           1.396           1.522   \n",
      "\n",
      "   Healthy life expectancy  Freedom to make life choices  Generosity  \\\n",
      "0                    0.986                         0.596       0.153   \n",
      "1                    0.996                         0.592       0.252   \n",
      "2                    1.028                         0.603       0.271   \n",
      "3                    1.026                         0.591       0.354   \n",
      "4                    0.999                         0.557       0.322   \n",
      "\n",
      "   Perceptions of corruption  \n",
      "0                      0.393  \n",
      "1                      0.410  \n",
      "2                      0.341  \n",
      "3                      0.118  \n",
      "4                      0.298  \n",
      "\n",
      "\n"
     ]
    }
   ],
   "source": [
    "files = [\"2015.csv\", \"2016.csv\", \"2017.csv\", \"2018.csv\" ,\"2019.csv\"]\n",
    "dataframes = [pd.read_csv(file).rename(columns=lambda x: x.strip()) for file in files]\n",
    "\n",
    "# Display the first few rows of each DataFrame\n",
    "for i, df in enumerate(dataframes, start=2015):\n",
    "    print(f\"Data from {i}:\")\n",
    "    print(df.head())\n",
    "    print(\"\\n\")"
   ]
  },
  {
   "cell_type": "markdown",
   "id": "bd2b5bc4-db37-4432-b666-0714afd0c4ca",
   "metadata": {},
   "source": [
    "## 1. Data Profiling:\n",
    "Data profiling is a comprehensive process of examining the data available in an existing dataset and collecting statistics and information about that data. "
   ]
  },
  {
   "cell_type": "code",
   "execution_count": 33,
   "id": "ff7be7eb-0d57-413b-8bed-5671b840e074",
   "metadata": {},
   "outputs": [
    {
     "name": "stdout",
     "output_type": "stream",
     "text": [
      "       Country          Region  Happiness Rank  Happiness Score  \\\n",
      "0  Switzerland  Western Europe               1            7.587   \n",
      "1      Iceland  Western Europe               2            7.561   \n",
      "2      Denmark  Western Europe               3            7.527   \n",
      "3       Norway  Western Europe               4            7.522   \n",
      "4       Canada   North America               5            7.427   \n",
      "\n",
      "   Standard Error  Economy (GDP per Capita)   Family  \\\n",
      "0         0.03411                   1.39651  1.34951   \n",
      "1         0.04884                   1.30232  1.40223   \n",
      "2         0.03328                   1.32548  1.36058   \n",
      "3         0.03880                   1.45900  1.33095   \n",
      "4         0.03553                   1.32629  1.32261   \n",
      "\n",
      "   Health (Life Expectancy)  Freedom  Trust (Government Corruption)  \\\n",
      "0                   0.94143  0.66557                        0.41978   \n",
      "1                   0.94784  0.62877                        0.14145   \n",
      "2                   0.87464  0.64938                        0.48357   \n",
      "3                   0.88521  0.66973                        0.36503   \n",
      "4                   0.90563  0.63297                        0.32957   \n",
      "\n",
      "   Generosity  Dystopia Residual  \n",
      "0     0.29678            2.51738  \n",
      "1     0.43630            2.70201  \n",
      "2     0.34139            2.49204  \n",
      "3     0.34699            2.46531  \n",
      "4     0.45811            2.45176  \n",
      "       Country          Region  Happiness Rank  Happiness Score  \\\n",
      "0      Denmark  Western Europe               1            7.526   \n",
      "1  Switzerland  Western Europe               2            7.509   \n",
      "2      Iceland  Western Europe               3            7.501   \n",
      "3       Norway  Western Europe               4            7.498   \n",
      "4      Finland  Western Europe               5            7.413   \n",
      "\n",
      "   Lower Confidence Interval  Upper Confidence Interval  \\\n",
      "0                      7.460                      7.592   \n",
      "1                      7.428                      7.590   \n",
      "2                      7.333                      7.669   \n",
      "3                      7.421                      7.575   \n",
      "4                      7.351                      7.475   \n",
      "\n",
      "   Economy (GDP per Capita)   Family  Health (Life Expectancy)  Freedom  \\\n",
      "0                   1.44178  1.16374                   0.79504  0.57941   \n",
      "1                   1.52733  1.14524                   0.86303  0.58557   \n",
      "2                   1.42666  1.18326                   0.86733  0.56624   \n",
      "3                   1.57744  1.12690                   0.79579  0.59609   \n",
      "4                   1.40598  1.13464                   0.81091  0.57104   \n",
      "\n",
      "   Trust (Government Corruption)  Generosity  Dystopia Residual  \n",
      "0                        0.44453     0.36171            2.73939  \n",
      "1                        0.41203     0.28083            2.69463  \n",
      "2                        0.14975     0.47678            2.83137  \n",
      "3                        0.35776     0.37895            2.66465  \n",
      "4                        0.41004     0.25492            2.82596  \n",
      "       Country  Happiness.Rank  Happiness.Score  Whisker.high  Whisker.low  \\\n",
      "0       Norway               1            7.537      7.594445     7.479556   \n",
      "1      Denmark               2            7.522      7.581728     7.462272   \n",
      "2      Iceland               3            7.504      7.622030     7.385970   \n",
      "3  Switzerland               4            7.494      7.561772     7.426227   \n",
      "4      Finland               5            7.469      7.527542     7.410458   \n",
      "\n",
      "   Economy..GDP.per.Capita.    Family  Health..Life.Expectancy.   Freedom  \\\n",
      "0                  1.616463  1.533524                  0.796667  0.635423   \n",
      "1                  1.482383  1.551122                  0.792566  0.626007   \n",
      "2                  1.480633  1.610574                  0.833552  0.627163   \n",
      "3                  1.564980  1.516912                  0.858131  0.620071   \n",
      "4                  1.443572  1.540247                  0.809158  0.617951   \n",
      "\n",
      "   Generosity  Trust..Government.Corruption.  Dystopia.Residual  \n",
      "0    0.362012                       0.315964           2.277027  \n",
      "1    0.355280                       0.400770           2.313707  \n",
      "2    0.475540                       0.153527           2.322715  \n",
      "3    0.290549                       0.367007           2.276716  \n",
      "4    0.245483                       0.382612           2.430182  \n",
      "   Overall rank Country or region  Score  GDP per capita  Social support  \\\n",
      "0             1           Finland  7.632           1.305           1.592   \n",
      "1             2            Norway  7.594           1.456           1.582   \n",
      "2             3           Denmark  7.555           1.351           1.590   \n",
      "3             4           Iceland  7.495           1.343           1.644   \n",
      "4             5       Switzerland  7.487           1.420           1.549   \n",
      "\n",
      "   Healthy life expectancy  Freedom to make life choices  Generosity  \\\n",
      "0                    0.874                         0.681       0.202   \n",
      "1                    0.861                         0.686       0.286   \n",
      "2                    0.868                         0.683       0.284   \n",
      "3                    0.914                         0.677       0.353   \n",
      "4                    0.927                         0.660       0.256   \n",
      "\n",
      "   Perceptions of corruption  \n",
      "0                      0.393  \n",
      "1                      0.340  \n",
      "2                      0.408  \n",
      "3                      0.138  \n",
      "4                      0.357  \n",
      "   Overall rank Country or region  Score  GDP per capita  Social support  \\\n",
      "0             1           Finland  7.769           1.340           1.587   \n",
      "1             2           Denmark  7.600           1.383           1.573   \n",
      "2             3            Norway  7.554           1.488           1.582   \n",
      "3             4           Iceland  7.494           1.380           1.624   \n",
      "4             5       Netherlands  7.488           1.396           1.522   \n",
      "\n",
      "   Healthy life expectancy  Freedom to make life choices  Generosity  \\\n",
      "0                    0.986                         0.596       0.153   \n",
      "1                    0.996                         0.592       0.252   \n",
      "2                    1.028                         0.603       0.271   \n",
      "3                    1.026                         0.591       0.354   \n",
      "4                    0.999                         0.557       0.322   \n",
      "\n",
      "   Perceptions of corruption  \n",
      "0                      0.393  \n",
      "1                      0.410  \n",
      "2                      0.341  \n",
      "3                      0.118  \n",
      "4                      0.298  \n"
     ]
    }
   ],
   "source": [
    "print(WH15.head())\n",
    "print(WH16.head())\n",
    "print(WH17.head())\n",
    "print(WH18.head())\n",
    "print(WH19.head())"
   ]
  },
  {
   "cell_type": "code",
   "execution_count": 8,
   "id": "65f39c7c-a839-4986-972f-f38cfaefa911",
   "metadata": {},
   "outputs": [
    {
     "name": "stdout",
     "output_type": "stream",
     "text": [
      "WH15 Columns: ['Country', 'Region', 'Happiness Rank', 'Happiness Score', 'Standard Error', 'Economy (GDP per Capita)', 'Family', 'Health (Life Expectancy)', 'Freedom', 'Trust (Government Corruption)', 'Generosity', 'Dystopia Residual'] \n",
      "\n",
      "WH16 Columns: ['Country', 'Region', 'Happiness Rank', 'Happiness Score', 'Lower Confidence Interval', 'Upper Confidence Interval', 'Economy (GDP per Capita)', 'Family', 'Health (Life Expectancy)', 'Freedom', 'Trust (Government Corruption)', 'Generosity', 'Dystopia Residual'] \n",
      "\n",
      "WH17 Columns: ['Country', 'Happiness.Rank', 'Happiness.Score', 'Whisker.high', 'Whisker.low', 'Economy..GDP.per.Capita.', 'Family', 'Health..Life.Expectancy.', 'Freedom', 'Generosity', 'Trust..Government.Corruption.', 'Dystopia.Residual'] \n",
      "\n",
      "WH18 Columns: ['Overall rank', 'Country or region', 'Score', 'GDP per capita', 'Social support', 'Healthy life expectancy', 'Freedom to make life choices', 'Generosity', 'Perceptions of corruption'] \n",
      "\n",
      "WH19 Columns: ['Overall rank', 'Country or region', 'Score', 'GDP per capita', 'Social support', 'Healthy life expectancy', 'Freedom to make life choices', 'Generosity', 'Perceptions of corruption'] \n",
      "\n"
     ]
    }
   ],
   "source": [
    "# Check column names for each dataset\n",
    "print(\"WH15 Columns:\", WH15.columns.tolist() , \"\\n\")\n",
    "print(\"WH16 Columns:\", WH16.columns.tolist(), \"\\n\")\n",
    "print(\"WH17 Columns:\", WH17.columns.tolist(), \"\\n\")\n",
    "print(\"WH18 Columns:\", WH18.columns.tolist(), \"\\n\")\n",
    "print(\"WH19 Columns:\", WH19.columns.tolist(), \"\\n\")"
   ]
  },
  {
   "cell_type": "code",
   "execution_count": 38,
   "id": "c4be14a3-d9a7-4e8b-b9c1-5d6391e84048",
   "metadata": {},
   "outputs": [
    {
     "name": "stdout",
     "output_type": "stream",
     "text": [
      "\n",
      "Top countries for 2015:\n",
      "Overall Happiness:\n",
      "       Country  Happiness Score\n",
      "0  Switzerland            7.587\n",
      "\n",
      "Happiness Rank:\n",
      "    Country  Happiness Rank\n",
      "157    Togo             158\n",
      "\n",
      "Happiness Score:\n",
      "       Country  Happiness Score\n",
      "0  Switzerland            7.587\n",
      "\n",
      "Economy (GDP per Capita):\n",
      "   Country  Economy (GDP per Capita)\n",
      "27   Qatar                   1.69042\n",
      "\n",
      "Family:\n",
      "   Country   Family\n",
      "1  Iceland  1.40223\n",
      "\n",
      "Health (Life Expectancy):\n",
      "      Country  Health (Life Expectancy)\n",
      "23  Singapore                   1.02525\n",
      "\n",
      "Freedom:\n",
      "  Country  Freedom\n",
      "3  Norway  0.66973\n",
      "\n",
      "Trust (Government Corruption):\n",
      "    Country  Trust (Government Corruption)\n",
      "153  Rwanda                        0.55191\n",
      "\n",
      "Generosity:\n",
      "     Country  Generosity\n",
      "128  Myanmar     0.79588\n",
      "\n",
      "\n",
      "Top countries for 2016:\n",
      "Overall Happiness:\n",
      "   Country  Happiness Score\n",
      "0  Denmark            7.526\n",
      "\n",
      "Happiness Rank:\n",
      "     Country  Happiness Rank\n",
      "156  Burundi             157\n",
      "\n",
      "Happiness Score:\n",
      "   Country  Happiness Score\n",
      "0  Denmark            7.526\n",
      "\n",
      "Economy (GDP per Capita):\n",
      "   Country  Economy (GDP per Capita)\n",
      "35   Qatar                   1.82427\n",
      "\n",
      "Family:\n",
      "   Country   Family\n",
      "2  Iceland  1.18326\n",
      "\n",
      "Health (Life Expectancy):\n",
      "      Country  Health (Life Expectancy)\n",
      "74  Hong Kong                   0.95277\n",
      "\n",
      "Freedom:\n",
      "       Country  Freedom\n",
      "48  Uzbekistan  0.60848\n",
      "\n",
      "Trust (Government Corruption):\n",
      "    Country  Trust (Government Corruption)\n",
      "151  Rwanda                        0.50521\n",
      "\n",
      "Generosity:\n",
      "     Country  Generosity\n",
      "118  Myanmar     0.81971\n",
      "\n",
      "\n",
      "Top countries for 2017:\n",
      "Overall Happiness:\n",
      "  Country  Happiness.Score\n",
      "0  Norway            7.537\n",
      "\n",
      "Happiness.Rank:\n",
      "                      Country  Happiness.Rank\n",
      "154  Central African Republic             155\n",
      "\n",
      "Happiness.Score:\n",
      "  Country  Happiness.Score\n",
      "0  Norway            7.537\n",
      "\n",
      "Economy..GDP.per.Capita.:\n",
      "   Country  Economy..GDP.per.Capita.\n",
      "34   Qatar                  1.870766\n",
      "\n",
      "Family:\n",
      "   Country    Family\n",
      "2  Iceland  1.610574\n",
      "\n",
      "Health..Life.Expectancy.:\n",
      "      Country  Health..Life.Expectancy.\n",
      "25  Singapore                  0.949492\n",
      "\n",
      "Freedom:\n",
      "       Country   Freedom\n",
      "46  Uzbekistan  0.658249\n",
      "\n",
      "Generosity:\n",
      "     Country  Generosity\n",
      "113  Myanmar    0.838075\n",
      "\n",
      "Trust..Government.Corruption.:\n",
      "      Country  Trust..Government.Corruption.\n",
      "25  Singapore                       0.464308\n",
      "\n",
      "\n",
      "Top countries for 2018:\n",
      "Overall Happiness:\n",
      "  Country or region  Score\n",
      "0           Finland  7.632\n",
      "\n",
      "Social support:\n",
      "  Country or region  Social support\n",
      "3           Iceland           1.644\n",
      "\n",
      "Healthy life expectancy:\n",
      "   Country or region  Healthy life expectancy\n",
      "75         Hong Kong                     1.03\n",
      "\n",
      "Freedom to make life choices:\n",
      "   Country or region  Freedom to make life choices\n",
      "43        Uzbekistan                         0.724\n",
      "\n",
      "Generosity:\n",
      "    Country or region  Generosity\n",
      "129           Myanmar       0.598\n",
      "\n",
      "Perceptions of corruption:\n",
      "   Country or region  Perceptions of corruption\n",
      "33         Singapore                      0.457\n",
      "\n",
      "\n",
      "Top countries for 2019:\n",
      "Overall Happiness:\n",
      "  Country or region  Score\n",
      "0           Finland  7.769\n",
      "\n",
      "Social support:\n",
      "  Country or region  Social support\n",
      "3           Iceland           1.624\n",
      "\n",
      "Healthy life expectancy:\n",
      "   Country or region  Healthy life expectancy\n",
      "33         Singapore                    1.141\n",
      "\n",
      "Freedom to make life choices:\n",
      "   Country or region  Freedom to make life choices\n",
      "40        Uzbekistan                         0.631\n",
      "\n",
      "Generosity:\n",
      "    Country or region  Generosity\n",
      "130           Myanmar       0.566\n",
      "\n",
      "Perceptions of corruption:\n",
      "   Country or region  Perceptions of corruption\n",
      "33         Singapore                      0.453\n",
      "\n"
     ]
    }
   ],
   "source": [
    "#1- What countries or regions rank the highest in overall happiness and each of the six factors contributing to happiness? \n",
    "import pandas as pd\n",
    "\n",
    "# Load datasets\n",
    "files = [\"2015.csv\", \"2016.csv\", \"2017.csv\", \"2018.csv\", \"2019.csv\"]\n",
    "dataframes = {year: pd.read_csv(file) for year, file in zip(range(2015, 2020), files)}\n",
    "\n",
    "# Function to get top countries for happiness\n",
    "def get_top_countries(df, year):\n",
    "    if year == 2015 or year == 2016:\n",
    "        country_col = 'Country'\n",
    "        overall_col = 'Happiness Score'\n",
    "    elif year == 2017:\n",
    "        country_col = 'Country'\n",
    "        overall_col = 'Happiness.Score'\n",
    "    else:  # For 2018 and 2019\n",
    "        country_col = 'Country or region'\n",
    "        overall_col = 'Score'\n",
    "\n",
    "    # Get overall happiness\n",
    "    top_happiness = df[[country_col, overall_col]].nlargest(1, overall_col)\n",
    "\n",
    "    # Get top factors (adjust based on the available columns)\n",
    "    factors = df.columns[df.columns.str.contains('Happiness|Economy|Family|Health|Freedom|Trust|Generosity|Social support|Perceptions of corruption')]\n",
    "    top_factors = {factor: df[[country_col, factor]].nlargest(1, factor) for factor in factors if factor in df.columns}\n",
    "    \n",
    "    return top_happiness, top_factors\n",
    "\n",
    "# Print top countries for each year\n",
    "for year in range(2015, 2020):\n",
    "    top_happiness, top_factors = get_top_countries(dataframes[year], year)\n",
    "    print(f\"\\nTop countries for {year}:\")\n",
    "    print(f\"Overall Happiness:\\n{top_happiness}\\n\")\n",
    "    for factor, top_country in top_factors.items():\n",
    "        print(f\"{factor}:\\n{top_country}\\n\")\n"
   ]
  },
  {
   "cell_type": "code",
   "execution_count": 31,
   "id": "4eedba72-1f20-4b6d-beef-56447a4063e5",
   "metadata": {},
   "outputs": [
    {
     "name": "stdout",
     "output_type": "stream",
     "text": [
      "WH15 columns : Index(['Country', 'Region', 'Happiness Rank', 'Happiness Score',\n",
      "       'Standard Error', 'Economy (GDP per Capita)', 'Family',\n",
      "       'Health (Life Expectancy)', 'Freedom', 'Trust (Government Corruption)',\n",
      "       'Generosity', 'Dystopia Residual'],\n",
      "      dtype='object') \n",
      "\n",
      "**************************************************\n",
      "WH16 columns: Index(['Country', 'Region', 'Happiness Rank', 'Happiness Score',\n",
      "       'Lower Confidence Interval', 'Upper Confidence Interval',\n",
      "       'Economy (GDP per Capita)', 'Family', 'Health (Life Expectancy)',\n",
      "       'Freedom', 'Trust (Government Corruption)', 'Generosity',\n",
      "       'Dystopia Residual'],\n",
      "      dtype='object') \n",
      "\n",
      "**************************************************\n",
      "WH17 columns: Index(['Country', 'Happiness.Rank', 'Happiness.Score', 'Whisker.high',\n",
      "       'Whisker.low', 'Economy..GDP.per.Capita.', 'Family',\n",
      "       'Health..Life.Expectancy.', 'Freedom', 'Generosity',\n",
      "       'Trust..Government.Corruption.', 'Dystopia.Residual'],\n",
      "      dtype='object') \n",
      "\n",
      "**************************************************\n",
      "WH18 columns: Index(['Overall rank', 'Country or region', 'Score', 'GDP per capita',\n",
      "       'Social support', 'Healthy life expectancy',\n",
      "       'Freedom to make life choices', 'Generosity',\n",
      "       'Perceptions of corruption'],\n",
      "      dtype='object') \n",
      "\n",
      "**************************************************\n",
      "WH19 columns: Index(['Overall rank', 'Country or region', 'Score', 'GDP per capita',\n",
      "       'Social support', 'Healthy life expectancy',\n",
      "       'Freedom to make life choices', 'Generosity',\n",
      "       'Perceptions of corruption'],\n",
      "      dtype='object') \n",
      "\n"
     ]
    }
   ],
   "source": [
    "print(\"WH15 columns :\",WH15.columns ,\"\\n\")\n",
    "print(\"*\" * 50 )\n",
    "print(\"WH16 columns:\",WH16.columns,\"\\n\")\n",
    "print(\"*\" * 50 )\n",
    "print(\"WH17 columns:\",WH17.columns,\"\\n\")\n",
    "print(\"*\" * 50 )\n",
    "print(\"WH18 columns:\",WH18.columns,\"\\n\")\n",
    "print(\"*\" * 50 )\n",
    "print(\"WH19 columns:\",WH19.columns,\"\\n\")"
   ]
  },
  {
   "cell_type": "markdown",
   "id": "834929aa-fd6a-4ec5-84d4-77c4b3c1a506",
   "metadata": {},
   "source": [
    "The process of profiling differs slightly for categorical and numerical variables due to their inherent differences.\n",
    "\n",
    "**The two main types of data are:**\n",
    "- Quantitative (numerical) data\n",
    "- Qualitative (categorical) data"
   ]
  },
  {
   "cell_type": "markdown",
   "id": "3a9954f5-6fbc-45b4-ad86-3e21b6e0ca2d",
   "metadata": {},
   "source": [
    "### Data Quality Checks\n",
    "Data quality checks involve the process of ensuring that the data is accurate, complete, consistent, relevant, and reliable. \n",
    "\n",
    "\n",
    "**Here are typical steps involved in checking data quality:**"
   ]
  },
  {
   "cell_type": "markdown",
   "id": "4818c876-173d-4e56-9e7d-b4334d2def25",
   "metadata": {},
   "source": [
    "#### 1. Reliability:\n",
    "Evaluate the data's source and collection process to determine its trustworthiness."
   ]
  },
  {
   "cell_type": "code",
   "execution_count": 10,
   "id": "9034ae7b-dc1d-4cba-8f9e-bb499d021cde",
   "metadata": {},
   "outputs": [
    {
     "name": "stdout",
     "output_type": "stream",
     "text": [
      "Source: World Happiness Report\n",
      "Method: Surveys and assessments of well-being\n",
      "\n"
     ]
    }
   ],
   "source": [
    "# Check the reliability of the source and method\n",
    "print(\"Source: World Happiness Report\")\n",
    "print(\"Method: Surveys and assessments of well-being\\n\")"
   ]
  },
  {
   "cell_type": "markdown",
   "id": "2ce0cc59-8c92-4acc-8d07-c40764e1a86b",
   "metadata": {},
   "source": [
    "#### 2. Timeliness: \n",
    "Ensure the data is up-to-date and reflective of the current situation or the period of interest for the analysis."
   ]
  },
  {
   "cell_type": "code",
   "execution_count": 11,
   "id": "4b78ae35-7226-4cb6-b8b2-a46c2ed17cf9",
   "metadata": {},
   "outputs": [
    {
     "name": "stdout",
     "output_type": "stream",
     "text": [
      "2015 Data - Latest Year Available: 2015\n",
      "2016 Data - Latest Year Available: 2016\n",
      "2017 Data - Latest Year Available: 2017\n"
     ]
    }
   ],
   "source": [
    "# Display the year of each dataset\n",
    "for year in range(2015, 2018):\n",
    "    print(f\"{year} Data - Latest Year Available: {year}\")"
   ]
  },
  {
   "cell_type": "markdown",
   "id": "7fab0fe2-6624-4615-b9d8-3c3669056bf8",
   "metadata": {},
   "source": [
    "#### 3. Consistency: \n",
    "\n",
    "Confirm that the data is consistent within the dataset and across multiple data sources. For example, the same data point should not have different values in different places.\n"
   ]
  },
  {
   "cell_type": "code",
   "execution_count": 23,
   "id": "7fecc573-959f-4800-8ddd-a67985c68b18",
   "metadata": {},
   "outputs": [
    {
     "name": "stdout",
     "output_type": "stream",
     "text": [
      "Columns: ['Country', 'Region', 'Happiness Rank', 'Happiness Score', 'Standard Error', 'Economy (GDP per Capita)', 'Family', 'Health (Life Expectancy)', 'Freedom', 'Trust (Government Corruption)', 'Generosity', 'Dystopia Residual']\n",
      "\n",
      "Columns: ['Country', 'Region', 'Happiness Rank', 'Happiness Score', 'Lower Confidence Interval', 'Upper Confidence Interval', 'Economy (GDP per Capita)', 'Family', 'Health (Life Expectancy)', 'Freedom', 'Trust (Government Corruption)', 'Generosity', 'Dystopia Residual']\n",
      "\n",
      "Columns: ['Country', 'Happiness.Rank', 'Happiness.Score', 'Whisker.high', 'Whisker.low', 'Economy..GDP.per.Capita.', 'Family', 'Health..Life.Expectancy.', 'Freedom', 'Generosity', 'Trust..Government.Corruption.', 'Dystopia.Residual']\n",
      "\n",
      "Columns: ['Overall rank', 'Country or region', 'Score', 'GDP per capita', 'Social support', 'Healthy life expectancy', 'Freedom to make life choices', 'Generosity', 'Perceptions of corruption']\n",
      "\n",
      "Columns: ['Overall rank', 'Country or region', 'Score', 'GDP per capita', 'Social support', 'Healthy life expectancy', 'Freedom to make life choices', 'Generosity', 'Perceptions of corruption']\n",
      "\n"
     ]
    }
   ],
   "source": [
    "# Check for consistent column names\n",
    "for df in dataframes:\n",
    "    print(f\"Columns: {df.columns.tolist()}\\n\")"
   ]
  },
  {
   "cell_type": "markdown",
   "id": "bec3d183-bba0-4b12-b963-487daab1e876",
   "metadata": {},
   "source": [
    "#### 4. Relevance: \n",
    "Assess whether the data is appropriate and applicable for the intended analysis. Data that is not relevant can skew results and lead to incorrect conclusions.\n",
    "\n",
    "**Key considerations for relevance include:**\n",
    "\n",
    "> 1. Sample Appropriateness: Confirm that your data sample aligns with your analysis objectives. For instance, utilizing data from the Northern region will not yield accurate insights for the Western region of the Kingdom.\n",
    ">\n",
    "> 2. Variable Selection: Any column will not be relevant for our analysis, we can get rid of these using the drop() method. We will set the “axis” argument to 1 since we’re dealing with columns, and set the “inplace” argument to True to make the change permanent.\n"
   ]
  },
  {
   "cell_type": "code",
   "execution_count": 63,
   "id": "50a934b7-a0cd-443f-8a27-f10e9a6e8647",
   "metadata": {
    "scrolled": true
   },
   "outputs": [
    {
     "name": "stdout",
     "output_type": "stream",
     "text": [
      "Relevant columns for 2015:\n",
      "       Country  Happiness Rank  Happiness Score\n",
      "0  Switzerland               1            7.587\n",
      "1      Iceland               2            7.561\n",
      "2      Denmark               3            7.527\n",
      "3       Norway               4            7.522\n",
      "4       Canada               5            7.427\n",
      "\n",
      "Relevant columns for 2016:\n",
      "       Country  Happiness Rank  Happiness Score\n",
      "0      Denmark               1            7.526\n",
      "1  Switzerland               2            7.509\n",
      "2      Iceland               3            7.501\n",
      "3       Norway               4            7.498\n",
      "4      Finland               5            7.413\n",
      "\n",
      "Relevant columns for 2017:\n",
      "       Country  Happiness Rank  Happiness Score\n",
      "0       Norway               1            7.537\n",
      "1      Denmark               2            7.522\n",
      "2      Iceland               3            7.504\n",
      "3  Switzerland               4            7.494\n",
      "4      Finland               5            7.469\n",
      "\n",
      "Relevant columns for 2018:\n",
      "       Country  Happiness Rank  Happiness Score\n",
      "0      Finland               1            7.632\n",
      "1       Norway               2            7.594\n",
      "2      Denmark               3            7.555\n",
      "3      Iceland               4            7.495\n",
      "4  Switzerland               5            7.487\n",
      "\n",
      "Relevant columns for 2019:\n",
      "       Country  Happiness Rank  Happiness Score\n",
      "0      Finland               1            7.769\n",
      "1      Denmark               2            7.600\n",
      "2       Norway               3            7.554\n",
      "3      Iceland               4            7.494\n",
      "4  Netherlands               5            7.488\n",
      "\n"
     ]
    }
   ],
   "source": [
    "import pandas as pd\n",
    "\n",
    "# Load the dataframes\n",
    "file_names = [\"2015.csv\", \"2016.csv\", \"2017.csv\", \"2018.csv\", \"2019.csv\"]\n",
    "dataframes = [pd.read_csv(file) for file in file_names]\n",
    "\n",
    "# Define column mappings for consistency\n",
    "column_mapping = {\n",
    "    'Country': 'Country',\n",
    "    'Region': 'Region',\n",
    "    'Happiness Rank': 'Happiness Rank',\n",
    "    'Happiness Score': 'Happiness Score',\n",
    "    'Lower Confidence Interval': 'Standard Error',\n",
    "    'Upper Confidence Interval': 'Standard Error',\n",
    "    'Economy (GDP per Capita)': 'Economy (GDP per Capita)',\n",
    "    'Family': 'Family',\n",
    "    'Health (Life Expectancy)': 'Health (Life Expectancy)',\n",
    "    'Freedom': 'Freedom',\n",
    "    'Trust (Government Corruption)': 'Trust (Government Corruption)',\n",
    "    'Generosity': 'Generosity',\n",
    "    'Dystopia Residual': 'Dystopia Residual',\n",
    "    'Happiness.Rank': 'Happiness Rank',\n",
    "    'Happiness.Score': 'Happiness Score',\n",
    "    'Whisker.high': 'Standard Error',\n",
    "    'Whisker.low': 'Standard Error',\n",
    "    'Economy..GDP.per.Capita.': 'Economy (GDP per Capita)',\n",
    "    'Health..Life.Expectancy.': 'Health (Life Expectancy)',\n",
    "    'Dystopia.Residual': 'Dystopia Residual',\n",
    "    'Overall rank': 'Happiness Rank',\n",
    "    'Country or region': 'Country',\n",
    "    'Score': 'Happiness Score',\n",
    "    'GDP per capita': 'Economy (GDP per Capita)',\n",
    "    'Social support': 'Family',\n",
    "    'Healthy life expectancy': 'Health (Life Expectancy)',\n",
    "    'Freedom to make life choices': 'Freedom',\n",
    "    'Perceptions of corruption': 'Trust (Government Corruption)'\n",
    "}\n",
    "\n",
    "# Rename columns and display relevant columns\n",
    "relevant_columns = ['Country', 'Happiness Rank', 'Happiness Score']\n",
    "\n",
    "for year, df in zip(range(2015, 2020), dataframes):\n",
    "    df.rename(columns=column_mapping, inplace=True)\n",
    "    existing_columns = [col for col in relevant_columns if col in df.columns]\n",
    "    if existing_columns:\n",
    "        print(f\"Relevant columns for {year}:\\n{df[existing_columns].head()}\\n\")\n",
    "    else:\n",
    "        print(f\"No relevant columns found for {year}.\\n\")\n"
   ]
  },
  {
   "cell_type": "markdown",
   "id": "0f5e3a2a-bbb7-4d06-8220-c93277b70146",
   "metadata": {},
   "source": [
    "#### 5. Uniqueness: \n",
    "Check for and remove duplicate records to prevent skewed analysis results.\n"
   ]
  },
  {
   "cell_type": "code",
   "execution_count": 28,
   "id": "a509a7aa-58f4-4d39-8eb8-e8298a21f2a7",
   "metadata": {},
   "outputs": [
    {
     "name": "stdout",
     "output_type": "stream",
     "text": [
      "Assessing uniqueness:\n",
      "Uniqueness for WH2015: 158 unique countries out of 158\n",
      "Uniqueness for WH2016: 157 unique countries out of 157\n",
      "Uniqueness for WH2017: 155 unique countries out of 155\n",
      "Country column not found in WH2018.\n",
      "Country column not found in WH2019.\n"
     ]
    }
   ],
   "source": [
    "# Assess Uniqueness\n",
    "def assess_uniqueness(df, year):\n",
    "    if 'Country' in df.columns:\n",
    "        unique_count = df['Country'].nunique()\n",
    "        total_count = df['Country'].count()\n",
    "        print(f\"Uniqueness for WH{year}: {unique_count} unique countries out of {total_count}\")\n",
    "    else:\n",
    "        print(f\"Country column not found in WH{year}.\")\n",
    "\n",
    "print(\"Assessing uniqueness:\")\n",
    "assess_uniqueness(WH15, 2015)\n",
    "assess_uniqueness(WH16, 2016)\n",
    "assess_uniqueness(WH17, 2017)\n",
    "assess_uniqueness(WH18, 2018)\n",
    "assess_uniqueness(WH19, 2019)\n"
   ]
  },
  {
   "cell_type": "code",
   "execution_count": 66,
   "id": "04c62559-3b48-48cf-a4e9-857e2e0ff416",
   "metadata": {},
   "outputs": [],
   "source": [
    "# go to delete duplicates columns"
   ]
  },
  {
   "cell_type": "markdown",
   "id": "c7724ac2-4ea2-4cf4-a9e0-e64368f87b92",
   "metadata": {},
   "source": [
    "#### 6. Completeness: \n",
    "Ensure that no critical data is missing. This might mean checking for null values or required fields that are empty.\n",
    "\n",
    "We will start by checking the dataset for missing or null values. For this, we can use the isna() method which returns a dataframe of boolean values indicating if a field is null or not. To group all missing values by column, we can include the sum() method."
   ]
  },
  {
   "cell_type": "code",
   "execution_count": 20,
   "id": "48a4de54-a344-4b94-9908-9528c15c13f7",
   "metadata": {},
   "outputs": [
    {
     "name": "stdout",
     "output_type": "stream",
     "text": [
      "Completeness for WH15:\n",
      "Missing Values:\n",
      "Series([], dtype: int64)\n",
      "Completeness for WH16:\n",
      "Missing Values:\n",
      "Series([], dtype: int64)\n",
      "Completeness for WH17:\n",
      "Missing Values:\n",
      "Series([], dtype: int64)\n",
      "Completeness for WH18:\n",
      "Missing Values:\n",
      "Perceptions of corruption    1\n",
      "dtype: int64\n",
      "Completeness for WH19:\n",
      "Missing Values:\n",
      "Series([], dtype: int64)\n"
     ]
    }
   ],
   "source": [
    "# Assess Completeness\n",
    "def assess_completeness(df):\n",
    "    missing_values = df.isnull().sum()\n",
    "    print(f\"Missing Values:\\n{missing_values[missing_values > 0]}\")\n",
    "\n",
    "print(\"Completeness for WH15:\")\n",
    "assess_completeness(WH15)\n",
    "\n",
    "print(\"Completeness for WH16:\")\n",
    "assess_completeness(WH16)\n",
    "\n",
    "print(\"Completeness for WH17:\")\n",
    "assess_completeness(WH17)\n",
    "\n",
    "print(\"Completeness for WH18:\")\n",
    "assess_completeness(WH18)\n",
    "\n",
    "print(\"Completeness for WH19:\")\n",
    "assess_completeness(WH19)\n"
   ]
  },
  {
   "cell_type": "code",
   "execution_count": 72,
   "id": "abec31c4-0904-4b73-8cee-b7bc14ab1e67",
   "metadata": {},
   "outputs": [],
   "source": [
    "# go to clean them "
   ]
  },
  {
   "cell_type": "markdown",
   "id": "b40de63c-5a1d-49ed-a87e-c5229ee08bbe",
   "metadata": {},
   "source": [
    "#### 7. Check Accuracy:\n",
    "\n",
    "Verify that the data is correct and precise. This could involve comparing data samples with known sources or using validation rules.\n",
    "\n",
    "**The process includes:**\n",
    "1. Validating the appropriateness of data types for the dataset.\n",
    "2. Identifying outliers  using established validation  rule"
   ]
  },
  {
   "cell_type": "code",
   "execution_count": null,
   "id": "68be5334-ae10-4abd-8097-3259fe5e72c8",
   "metadata": {},
   "outputs": [],
   "source": []
  },
  {
   "cell_type": "code",
   "execution_count": 33,
   "id": "2ee790ba-dcc0-45f1-b6f8-0133e913e149",
   "metadata": {},
   "outputs": [],
   "source": [
    "# go to clean them "
   ]
  },
  {
   "cell_type": "code",
   "execution_count": 3,
   "id": "c69b303a-5459-45f9-a28e-fcee45c21c05",
   "metadata": {},
   "outputs": [],
   "source": [
    "# check outliers "
   ]
  },
  {
   "cell_type": "markdown",
   "id": "4aca9d42-add6-45db-92cf-1f6dae5f277b",
   "metadata": {},
   "source": [
    "**What is an Outlier?** \n",
    "Outlier is an row/observation that appears far away and diverges from an overall pattern in a sample.\n",
    "\n",
    "**What are the types of Outliers?**\n",
    "1. Univariate: These outliers can be found when we look at distribution of a single variable\n",
    "2. Multivariate: are outliers in an n-dimensional space. In order to find them, you have to look at distributions in multi-dimensions. example (hight=100, weight=100) for a person\n",
    "\n",
    "**What causes Outliers?**\n",
    "Whenever we come across outliers, the ideal way to tackle them is to find out the reason of having these outliers. The method to deal with them would then depend on the reason of their occurrence.\n",
    "\n",
    "Let’s understand various types of outliers:\n",
    "\n",
    "1. Data Entry Errors:- Human errors such as errors caused during data collection, recording, or entry can cause outliers in data.\n",
    "2. Measurement Error: It is the most common source of outliers. This is caused when the measurement instrument used turns out to be faulty.\n",
    "3. Data Processing Error: Whenever we perform data mining, we extract data from multiple sources. It is possible that some manipulation or extraction errors may lead to outliers in the dataset.\n",
    "4. Sampling error: For instance, we have to measure the height of athletes. By mistake, we include a few basketball players in the sample. This inclusion is likely to cause outliers in the dataset.\n",
    "5. Natural Outlier: When an outlier is not artificial (due to error), it is a natural outlier. For instance: In my last assignment with one of the renowned insurance company, I noticed that the performance of top 50 financial advisors was far higher than rest of the population. Surprisingly, it was not due to any error. Hence, whenever we perform any data mining activity with advisors, we used to treat this segment separately.\n",
    "\n",
    "\n",
    "**What is the impact of Outliers on a dataset?**\n",
    "\n",
    "\n",
    "![image.png](https://www.analyticsvidhya.com/wp-content/uploads/2015/02/Outlier_31.png)\n",
    "\n",
    "\n",
    "\n",
    "**How to detect Outliers?**\n",
    "\n",
    "1. Most commonly used method to detect outliers is visualization (Univariate Graphical Analysis).\n",
    "\n",
    "We use 3 common visualization methods:\n",
    ">- Box-plot: A box plot is a method for graphically depicting groups of numerical data through their quartiles. The box extends from the Q1 to Q3 quartile values of the data, with a line at the median (Q2). The whiskers extend from the edges of the box to show the range of the data. Outlier points are those past the end of the whiskers. Box plots show robust measures of location and spread as well as providing information about symmetry and outliers.\n",
    ">\n",
    ">  \n",
    ">![image.png](https://miro.medium.com/v2/resize:fit:698/format:webp/1*VK5iHA2AB28HSZwWwUbNYg.png)\n",
    ">\n",
    ">\n",
    ">- Histogram\n",
    ">- Scatter Plot: A scatter plot is a mathematical diagram using Cartesian coordinates to display values for two variables for a set of data. The data are displayed as a collection of points, each having the value of one variable determining the position on the horizontal axis and the value of the other variable determining the position on the vertical axis. The points that are far from the population can be termed as an outlier.\n",
    ">\n",
    ">  \n",
    ">![image.png](https://miro.medium.com/v2/resize:fit:4800/format:webp/1*Ov6aH-8yIwNoUxtMFwgx4g.png)\n",
    ">\n",
    ">\n",
    "\n",
    "2. Using statistical method (Univariate Non-Graphical analysis):\n",
    ">- Any value, which is beyond the range of -1.5 x IQR to 1.5 x IQR\n",
    " \n",
    "![image.png](https://www.whatissixsigma.net/wp-content/uploads/2015/07/Box-Plot-Diagram-to-identify-Outliers-figure-1.png)\n",
    "\n",
    ">- Use capping methods. Any value which out of range of 5th and 95th percentile can be considered as outlier\n",
    ">- Data points, three or more standard deviation away from mean are considered outlier: The Z-score is the signed number of standard deviations by which the value of an observation or data point is above the mean value of what is being observed or measured. While calculating the Z-score we re-scale and center the data and look for data points that are too far from zero. These data points which are way too far from zero will be treated as the outliers. In most of the cases, a threshold of 3 or -3 is used i.e if the Z-score value is greater than or less than 3 or -3 respectively, that data point will be identified as outliers.\n",
    "> - Outlier detection is merely a special case of the examination of data for influential data points and it also depends on the business understanding\n"
   ]
  },
  {
   "cell_type": "code",
   "execution_count": 23,
   "id": "74ea6194-cc01-45d8-be38-c4543eb1714e",
   "metadata": {},
   "outputs": [],
   "source": [
    "# go to univariate graphical analysis\n",
    "# go to lesson : data visualisation 1 - chart type section\n",
    "# then go to univariate graphical analysis\n",
    "# detect outliers using graphs varbaly"
   ]
  },
  {
   "cell_type": "code",
   "execution_count": 24,
   "id": "48ecf77b-480c-4f64-9485-95be805bc357",
   "metadata": {},
   "outputs": [],
   "source": [
    "# go to lesson: statistics 1 then statistics 3\n",
    "# then go to univariate Non graphical analysiss\n",
    "# detect outliers using numerical statistics "
   ]
  },
  {
   "cell_type": "code",
   "execution_count": null,
   "id": "ee200da8-62b0-492d-b118-f4d665a1fb16",
   "metadata": {},
   "outputs": [],
   "source": []
  },
  {
   "cell_type": "code",
   "execution_count": 25,
   "id": "4e66d611-6958-4860-8522-9ada7fce40b0",
   "metadata": {},
   "outputs": [],
   "source": [
    "# go to delete ouliers"
   ]
  },
  {
   "attachments": {},
   "cell_type": "markdown",
   "id": "4e886ec7-388c-414b-ada7-803c2fb1f2cb",
   "metadata": {},
   "source": [
    "## 2. Data Cleaning: \n",
    "\n",
    "Preliminary findings from data profiling can lead to cleaning the data by:\n",
    "- Handling missing values\n",
    "- Correcting errors.\n",
    "- Dealing with outliers.\n",
    "\n",
    "-------------------\n",
    "\n"
   ]
  },
  {
   "cell_type": "markdown",
   "id": "21876b48-f5ec-4970-85a9-0520d45d8841",
   "metadata": {},
   "source": [
    "### Handling missing values:"
   ]
  },
  {
   "cell_type": "markdown",
   "id": "c890d5a2-2a65-4090-9427-f89c0f011d3f",
   "metadata": {},
   "source": [
    "**Why my data has missing values?**\n",
    "They may occur at two stages:\n",
    "1. Data Extraction: It is possible that there are problems with extraction process. Errors at data extraction stage are typically easy to find and can be corrected easily as well.\n",
    "2. Data collection: These errors occur at time of data collection and are harder to correct.\n",
    "\n",
    "**Why do we need to handle the missing data?**\n",
    "To avoid:\n",
    "- Bias the conclusions.\n",
    "- Leading the business to make wrong decisions.\n",
    "\n",
    "**Which are the methods to treat missing values ?**\n",
    "1. Deletion: we delete rows where any of the variable is missing. Simplicity is one of the major advantage of this method, but this method reduces the power of model because it reduces the sample size.\n",
    "\n",
    "2. Imputation: is a method to fill in the missing values with estimated ones. This imputation is one of the most frequently used methods.\n",
    "\n",
    "    2.1. Mean/ Mode/ Median Imputation: It consists of replacing the missing data for a given attribute by the mean or median (quantitative attribute) or mode (qualitative attribute) of all known values of that variable.\n",
    "    > It can be of two types:\n",
    "    > - Generalized Imputation: In this case, we calculate the mean or median for all non missing values of that variable then replace missing value with mean or median.\n",
    "    > - Similar case Imputation: In this case, we calculate average for each group individually of non missing values then replace the missing value based on the group.\n",
    "\n",
    "    2.2. Constant Value\n",
    "   \n",
    "    2.3. Forward Filling\n",
    "   \n",
    "    2.4. Backward Filling\n",
    "\n",
    "6. Prediction Model:  Prediction model is one of the sophisticated method for handling missing data. Here, we create a predictive model to estimate values that will substitute the missing data.  In this case, we divide our data set into two sets: One set with no missing values for the variable and another one with missing values. First data set become training data set of the model while second data set with missing values is test data set and variable with missing values is treated as target variable. Next, we create a model to predict target variable based on other attributes of the training data set and populate missing values of test data set.\n",
    "\n",
    "> There are 2 drawbacks for this approach:\n",
    "> - The model estimated values are usually more well-behaved than the true values\n",
    "> - If there are no relationships with attributes in the data set and the attribute with missing values, then the model will not be precise for estimating missing values.\n",
    "\n",
    "9. KNN Imputation: In this method of imputation, the missing values of an attribute are imputed using the given number of attributes that are most similar to the attribute whose values are missing. The similarity of two attributes is determined using a distance function. It is also known to have certain advantage & disadvantages.\n",
    "\n",
    "   > **Advantages:**\n",
    "   > - k-nearest neighbour can predict both qualitative & quantitative attributes\n",
    "   > - Creation of predictive model for each attribute with missing data is not required\n",
    "   > - Attributes with multiple missing values can be easily treated\n",
    "   > - Correlation structure of the data is taken into consideration\n",
    "\n",
    "   > **Disadvantage:**\n",
    "   > - KNN algorithm is very time-consuming in analyzing large database. It searches through all the dataset looking for the most similar instances.\n",
    "   > - Choice of k-value is very critical. Higher value of k would include attributes which are significantly different from what we need whereas lower value of k implies missing out of significant attributes.\n",
    "\n",
    "--------------------\n"
   ]
  },
  {
   "cell_type": "code",
   "execution_count": null,
   "id": "57e741fb-71c1-46ad-a526-d8f0b1564dc3",
   "metadata": {},
   "outputs": [],
   "source": []
  },
  {
   "cell_type": "code",
   "execution_count": 1,
   "id": "01287962-8077-4c01-8d1d-5f8aed6cb37a",
   "metadata": {},
   "outputs": [],
   "source": [
    "# go back to 6th dimention --> Completeness"
   ]
  },
  {
   "cell_type": "markdown",
   "id": "f7cee10f-0af8-44e5-b595-8e965294daad",
   "metadata": {},
   "source": [
    "### Correcting errors\n",
    "\n",
    "-------------------"
   ]
  },
  {
   "cell_type": "code",
   "execution_count": null,
   "id": "06273b88-a169-42e8-81f5-5d71cb3f9c21",
   "metadata": {},
   "outputs": [],
   "source": []
  },
  {
   "cell_type": "code",
   "execution_count": null,
   "id": "f1d95da5-a3ba-473a-8243-aa177cadae20",
   "metadata": {},
   "outputs": [],
   "source": [
    "# go back to 7th dimension Accuracy "
   ]
  },
  {
   "cell_type": "markdown",
   "id": "5ecc7dbb-6867-44cf-8f99-1b969a80be40",
   "metadata": {},
   "source": [
    "### Dealing with outliers:"
   ]
  },
  {
   "attachments": {},
   "cell_type": "markdown",
   "id": "88347887-4bdf-48af-9486-cb8fe80c97af",
   "metadata": {},
   "source": [
    "**How to remove Outliers?**\n",
    "Most of the ways to deal with outliers are similar to the methods of missing values like deleting rows, transforming them, binning them, treat them as a separate group, imputing values and other statistical methods. Here, we will discuss the common techniques used to deal with outliers:\n",
    "\n",
    "1. Deleting rows: We delete outlier values if it is due to data entry error, data processing error or outlier rows are very small in numbers. We can also use trimming at both ends to remove outliers.\n",
    "\n",
    "2. Imputing: Like imputation of missing values, we can also impute outliers. We can use mean, median, mode imputation methods. Before imputing values, we should analyse if it is natural outlier or artificial. If it is artificial, we can go with imputing values. We can also use statistical model to predict values of outlier rows and after that we can impute it with predicted values.\n",
    "\n",
    "3. Treat separately: If there are significant number of outliers, we should treat them separately in the statistical model. One of the approach is to treat both groups as two different groups and build individual model for both groups and then combine the output.\n"
   ]
  },
  {
   "cell_type": "code",
   "execution_count": null,
   "id": "25a585f0-2b9c-42fa-bf21-cacc6aa3be3f",
   "metadata": {},
   "outputs": [],
   "source": []
  },
  {
   "cell_type": "markdown",
   "id": "98548b66-e309-4eb8-a5dc-65fe0abbf1e8",
   "metadata": {},
   "source": [
    "## 3. Univariate Analysis: \n",
    "\n",
    "This involves examining single variables to understand their characteristics (distribution, central tendency, dispersion, and shape).\n",
    "\n",
    "We calculate **numerical values** about the data that tells us about the distribution of the data. We also **draw graphs** showing visually how the data is distributed. **To answer the following questions about Features/characteristics of Data:**\n",
    "- Where is the center of the data? (location)\n",
    "- How much does the data vary? (scale)\n",
    "- What is the shape of the data? (shape)\n",
    "\n",
    "**The benefits of this analysis:**\n",
    "Statistics summary gives a high-level idea to identify whether the data has any outliers, data entry error, distribution of data such as the data is normally distributed or left/right skewed\n",
    "\n",
    "**In this step, we will explore variables one by one using following approaches:**"
   ]
  },
  {
   "cell_type": "markdown",
   "id": "d6718111-7ac2-4fff-9851-654655b62e0b",
   "metadata": {},
   "source": [
    "### 1. Univariate Graphical Analysis:\n",
    "Method to perform uni-variate analysis will depend on whether the variable type is categorical or numerical."
   ]
  },
  {
   "cell_type": "code",
   "execution_count": null,
   "id": "db79d803-b75c-4686-a623-e8420321a90f",
   "metadata": {},
   "outputs": [],
   "source": []
  },
  {
   "cell_type": "markdown",
   "id": "0d57c4b9-9bb3-494d-85dd-b8d39afda139",
   "metadata": {},
   "source": [
    "#### I. Categorical Variables:\n",
    "\n",
    "we’ll use frequency table to understand distribution of each category\n",
    "- Bar Chart (Ordinal) - Orderd\n",
    "- Pie Chart (Nominal) - non Orderd"
   ]
  },
  {
   "cell_type": "code",
   "execution_count": null,
   "id": "72ece4b7-5508-403a-8fb0-f519fc74272a",
   "metadata": {},
   "outputs": [],
   "source": []
  },
  {
   "cell_type": "markdown",
   "id": "d2641f0d-80f2-493b-99b7-15476379a1e2",
   "metadata": {},
   "source": [
    "#### II. Numerical Variables:\n",
    "\n",
    "we need to understand the central tendency and spread of the variable (Descriptive Analysis) using:\n",
    "   - Box plot\n",
    "   - Histogram"
   ]
  },
  {
   "cell_type": "code",
   "execution_count": null,
   "id": "5be16f08-a072-4a02-a3ee-6f9d57786fb4",
   "metadata": {},
   "outputs": [],
   "source": []
  },
  {
   "cell_type": "markdown",
   "id": "d66677d3-44ad-414f-9b39-f9c1995ad043",
   "metadata": {},
   "source": [
    "### 2. Univariate Non-Graphical analysis: \n",
    "\n",
    "- Where is the center of the data? (location) --> **Measures of central tendency**\n",
    "- How much does the data vary? (scale) --> **Measure of variability**\n",
    "- What is the shape of the data? (shape) --> **Measures of variation combined with an average (measure of center) gives a good picture of the distribution of the data.**"
   ]
  },
  {
   "cell_type": "code",
   "execution_count": null,
   "id": "f1058d84-e61e-4f5b-b66a-29931e77821b",
   "metadata": {},
   "outputs": [],
   "source": []
  },
  {
   "cell_type": "markdown",
   "id": "f09bb809-0edd-432b-bf23-abd0840b3e16",
   "metadata": {},
   "source": [
    "## 4. Bivariate/Multivariate Analysis:\n",
    "\n",
    "Here, you look at the relationships between two or more variables. This can involve looking for correlations, patterns, and trends that suggest a relationship or an association.\n",
    "\n",
    "We can perform bi-variate analysis for any combination of categorical and numerical variables. The combination can be:\n",
    "| bi-variate variables   | Plot type |\n",
    "| ------------- | ------------- |\n",
    "| Categorical & Categorical| Stacked Bar Chart |\n",
    "| Categorical & numerical  | scatter plot, histogram, box plot|\n",
    "| numerical  & numerical  | Scatter plot, line chart| \n",
    "\n",
    "\n",
    "Multivariate Analysis:\n",
    "- Heat map\n",
    "- Bar Chart\n",
    "- Scatter Chart\n",
    "- Line Chart"
   ]
  },
  {
   "cell_type": "markdown",
   "id": "838f2864-ce9e-4f15-99c8-052d053154a7",
   "metadata": {},
   "source": [
    "**Categorical & Categorical --> (Stacked Column Chart)**"
   ]
  },
  {
   "cell_type": "code",
   "execution_count": null,
   "id": "73f9f2ac-8477-49ea-9c68-4fe44d4395b6",
   "metadata": {},
   "outputs": [],
   "source": []
  },
  {
   "cell_type": "markdown",
   "id": "730e088f-fe13-40da-8fbb-686f5135fa4d",
   "metadata": {},
   "source": [
    "**Categorical & numerical --> (scatter plot, histogram, box plot)**"
   ]
  },
  {
   "cell_type": "code",
   "execution_count": null,
   "id": "3590e345-2051-4215-91ac-07d196b510ef",
   "metadata": {},
   "outputs": [],
   "source": []
  },
  {
   "cell_type": "markdown",
   "id": "20aed48d-b78e-46da-963f-e7f15e2f4dc7",
   "metadata": {},
   "source": [
    "**numerical & numerical --> (Scatter plot, line chart)**"
   ]
  },
  {
   "cell_type": "code",
   "execution_count": null,
   "id": "41023177-01cb-4f39-a750-12be71b13bda",
   "metadata": {},
   "outputs": [],
   "source": []
  },
  {
   "cell_type": "markdown",
   "id": "efb43b30-b1f0-48a4-a19c-195810cc8a0f",
   "metadata": {},
   "source": [
    "We could also use a correlation matrix to get more specific information about the relationship between these two variables."
   ]
  },
  {
   "cell_type": "code",
   "execution_count": null,
   "id": "8406f58f-b825-4a15-8f6e-c68ca66bd483",
   "metadata": {},
   "outputs": [],
   "source": []
  }
 ],
 "metadata": {
  "kernelspec": {
   "display_name": "Python 3 (ipykernel)",
   "language": "python",
   "name": "python3"
  },
  "language_info": {
   "codemirror_mode": {
    "name": "ipython",
    "version": 3
   },
   "file_extension": ".py",
   "mimetype": "text/x-python",
   "name": "python",
   "nbconvert_exporter": "python",
   "pygments_lexer": "ipython3",
   "version": "3.12.4"
  }
 },
 "nbformat": 4,
 "nbformat_minor": 5
}
